{
 "cells": [
  {
   "cell_type": "code",
   "execution_count": 1,
   "id": "b8201d6b-a6c9-45b4-8383-fc34c8dfb9b2",
   "metadata": {},
   "outputs": [],
   "source": [
    "import json\n",
    "import pandas as pd\n",
    "import os\n",
    "from tqdm import tqdm\n",
    "\n",
    "def extract_compound_features():\n",
    "    input_path = r\"C:\\Users\\Suyash\\Desktop\\compound-risk-scoring\\data\\all_wallets_data.json\"\n",
    "    output_path = r\"C:\\Users\\Suyash\\Desktop\\compound-risk-scoring\\data\\features.csv\"\n",
    "\n",
    "    with open(input_path, \"r\") as f:\n",
    "        all_data = json.load(f)\n",
    "\n",
    "    features = []\n",
    "\n",
    "    for wallet, txs in tqdm(all_data.items(), desc=\"Extracting features\"):\n",
    "        n_tx = len(txs)\n",
    "        total_volume = 0\n",
    "        token_set = set()\n",
    "        stablecoin_tx = 0\n",
    "        large_tx = 0\n",
    "\n",
    "        for tx in txs:\n",
    "            try:\n",
    "                value = float(tx.get(\"value\", 0))\n",
    "                symbol = tx.get(\"token_symbol\", \"\").lower()\n",
    "                token_set.add(symbol)\n",
    "                total_volume += value\n",
    "                if symbol in [\"usdc\", \"usdt\", \"dai\"]:\n",
    "                    stablecoin_tx += 1\n",
    "                if value > 1000:\n",
    "                    large_tx += 1\n",
    "            except:\n",
    "                continue\n",
    "\n",
    "        features.append({\n",
    "            \"wallet_id\": wallet,\n",
    "            \"n_transactions\": n_tx,\n",
    "            \"unique_tokens\": len(token_set),\n",
    "            \"total_volume\": total_volume,\n",
    "            \"stablecoin_tx\": stablecoin_tx,\n",
    "            \"large_tx_count\": large_tx\n",
    "        })\n",
    "\n",
    "    df = pd.DataFrame(features)\n",
    "    df.to_csv(output_path, index=False)\n",
    "    print(f\"✅ Features extracted for {len(df)} wallets. Saved to {output_path}\")\n",
    "    return df\n"
   ]
  },
  {
   "cell_type": "code",
   "execution_count": null,
   "id": "1838fb67-21d4-4c6c-9248-97c450f41873",
   "metadata": {},
   "outputs": [],
   "source": []
  }
 ],
 "metadata": {
  "kernelspec": {
   "display_name": "Python 3 (ipykernel)",
   "language": "python",
   "name": "python3"
  },
  "language_info": {
   "codemirror_mode": {
    "name": "ipython",
    "version": 3
   },
   "file_extension": ".py",
   "mimetype": "text/x-python",
   "name": "python",
   "nbconvert_exporter": "python",
   "pygments_lexer": "ipython3",
   "version": "3.12.4"
  }
 },
 "nbformat": 4,
 "nbformat_minor": 5
}
